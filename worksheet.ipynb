{
 "cells": [
  {
   "cell_type": "code",
   "execution_count": null,
   "id": "bae546b7-a151-411f-92ce-1bf2a89307ec",
   "metadata": {
    "tags": []
   },
   "outputs": [],
   "source": [
    "import pyspark"
   ]
  },
  {
   "cell_type": "code",
   "execution_count": null,
   "id": "d640e977-2761-42b0-b1a7-fb970d1fa2b1",
   "metadata": {
    "tags": []
   },
   "outputs": [],
   "source": [
    "from pyspark.sql import SparkSession\n",
    "from pyspark.sql.functions import col, when, when"
   ]
  },
  {
   "cell_type": "code",
   "execution_count": null,
   "id": "f38e5e60-4069-497b-9473-3a82db3f4d35",
   "metadata": {
    "tags": []
   },
   "outputs": [],
   "source": [
    "spark = SparkSession.builder.appName(\"Load CSV\").config(\"spark.sql.repl.eagerEval.enabled\", True).getOrCreate()"
   ]
  },
  {
   "cell_type": "markdown",
   "id": "bc073c0d-c34a-4a66-a8ec-5f9db7c0d730",
   "metadata": {},
   "source": [
    "## Load computer sales"
   ]
  },
  {
   "cell_type": "code",
   "execution_count": null,
   "id": "ec70ca57-48c2-43fb-95be-7a64140a1dd7",
   "metadata": {
    "tags": []
   },
   "outputs": [],
   "source": [
    "computer_sales = spark.read.csv(\"computer_sales.csv\", header = True, inferSchema = True)"
   ]
  },
  {
   "cell_type": "code",
   "execution_count": null,
   "id": "97a26d09-665f-4239-967d-fa78c56a64f0",
   "metadata": {
    "tags": []
   },
   "outputs": [],
   "source": [
    "computer_sales.printSchema()"
   ]
  },
  {
   "cell_type": "code",
   "execution_count": null,
   "id": "6af6fdfa-5b59-42c5-82d6-3efc09b0def0",
   "metadata": {
    "tags": []
   },
   "outputs": [],
   "source": [
    "computer_sales.show()"
   ]
  },
  {
   "cell_type": "code",
   "execution_count": null,
   "id": "56b9556b-abd9-48e3-aede-ad4d14a9d553",
   "metadata": {},
   "outputs": [],
   "source": [
    "computer_sales.summary()"
   ]
  },
  {
   "cell_type": "markdown",
   "id": "51405a04-61de-41f8-bd02-e7c25bc2c5ba",
   "metadata": {},
   "source": [
    "## Merge CompurterSales with CompurterSales2020"
   ]
  },
  {
   "cell_type": "code",
   "execution_count": null,
   "id": "b21728a8-dd27-4804-9b10-01537466cf99",
   "metadata": {},
   "outputs": [],
   "source": []
  },
  {
   "cell_type": "markdown",
   "id": "26f5eed1-be6a-492e-940d-6a8d2599057c",
   "metadata": {},
   "source": [
    "## Remove Duplicates, count rows before and after"
   ]
  },
  {
   "cell_type": "code",
   "execution_count": null,
   "id": "5ac0b9e5-db59-4655-af74-491f25532fe3",
   "metadata": {},
   "outputs": [],
   "source": []
  },
  {
   "cell_type": "markdown",
   "id": "7938bd17-61c1-4546-8f40-c9212bb2983f",
   "metadata": {},
   "source": [
    "## Join the computer sales with the customer info"
   ]
  },
  {
   "cell_type": "code",
   "execution_count": null,
   "id": "10c1faa9-49b9-489d-8c7f-7f689ac5218c",
   "metadata": {},
   "outputs": [],
   "source": []
  },
  {
   "cell_type": "markdown",
   "id": "9f009722-287f-453d-a287-a5c9ce44ecfc",
   "metadata": {},
   "source": [
    "## Remove the redundant customer ID column"
   ]
  },
  {
   "cell_type": "code",
   "execution_count": null,
   "id": "2839045f-0977-4144-9aff-44f74bcceff0",
   "metadata": {},
   "outputs": [],
   "source": []
  },
  {
   "cell_type": "markdown",
   "id": "9d96bdfc-a151-4aa7-8712-fde469413df1",
   "metadata": {},
   "source": [
    "## We have noticed 0's in the Year column. Change it to 2017"
   ]
  },
  {
   "cell_type": "code",
   "execution_count": null,
   "id": "f2829b21-997b-4bde-91d5-a259e0126398",
   "metadata": {
    "scrolled": true
   },
   "outputs": [],
   "source": []
  },
  {
   "cell_type": "markdown",
   "id": "6ae9f727-b52d-4641-b02b-c3453c4a8a3f",
   "metadata": {
    "editable": true,
    "slideshow": {
     "slide_type": ""
    },
    "tags": []
   },
   "source": [
    "## Replace the values in \"Sex\", with the values: M=Male and F=Female"
   ]
  },
  {
   "cell_type": "code",
   "execution_count": null,
   "id": "556ec704-8e97-41fe-a5e0-c1ba2ccf0e1d",
   "metadata": {},
   "outputs": [],
   "source": []
  },
  {
   "cell_type": "markdown",
   "id": "c0fa48ab-da6f-4a0a-8609-0ab5ddf0c00d",
   "metadata": {},
   "source": [
    "## Calculate the total profit for the segment \"Male\" "
   ]
  },
  {
   "cell_type": "code",
   "execution_count": null,
   "id": "6718799d-fdfe-494c-83de-72219405e011",
   "metadata": {},
   "outputs": [],
   "source": []
  },
  {
   "cell_type": "markdown",
   "id": "580522ea-f83f-44fe-8d40-5d90e788b4d5",
   "metadata": {},
   "source": [
    "## Get an overview of all the unique products"
   ]
  },
  {
   "cell_type": "code",
   "execution_count": null,
   "id": "c147a99c-c68a-4a88-9e58-13f1abb01516",
   "metadata": {},
   "outputs": [],
   "source": []
  },
  {
   "cell_type": "markdown",
   "id": "0c9f5a4f-de11-41c6-91d4-93a28b7f71a0",
   "metadata": {},
   "source": [
    "## Print what is the most sold product by people <50 years old."
   ]
  },
  {
   "cell_type": "code",
   "execution_count": null,
   "id": "6f5e9130-1771-433a-ab62-aaf83ec47666",
   "metadata": {},
   "outputs": [],
   "source": []
  },
  {
   "cell_type": "markdown",
   "id": "d604c7bf-2eff-4571-924d-c38a0e5727ad",
   "metadata": {},
   "source": [
    "## What is the product with the most profit"
   ]
  },
  {
   "cell_type": "code",
   "execution_count": null,
   "id": "b12af197-f48f-44b8-aaa7-eefd64e6f348",
   "metadata": {},
   "outputs": [],
   "source": []
  },
  {
   "cell_type": "markdown",
   "id": "40f1c18a-b97a-42e2-b93f-e70341da69c3",
   "metadata": {},
   "source": [
    "## Create a column with the current date"
   ]
  },
  {
   "cell_type": "code",
   "execution_count": null,
   "id": "49dbcdde-8188-4cfc-a106-ae08e35c11eb",
   "metadata": {},
   "outputs": [],
   "source": []
  },
  {
   "cell_type": "markdown",
   "id": "83734468-8e58-4975-9cc5-6fb6dead9a12",
   "metadata": {},
   "source": [
    "## Create a column with the surnames"
   ]
  },
  {
   "cell_type": "code",
   "execution_count": null,
   "id": "0ecb743a-6599-4c31-9945-9dc3157a7710",
   "metadata": {},
   "outputs": [],
   "source": []
  },
  {
   "cell_type": "markdown",
   "id": "8c17078e-5542-4a69-a1fe-9879447cdc4a",
   "metadata": {},
   "source": [
    "## Filter on the leads that were not acquired  by a flyer"
   ]
  },
  {
   "cell_type": "code",
   "execution_count": null,
   "id": "51531382-7237-4d0a-a862-dfdbf8c09257",
   "metadata": {},
   "outputs": [],
   "source": []
  },
  {
   "cell_type": "markdown",
   "id": "090704f7-db4e-4d58-b312-5073553b36ef",
   "metadata": {},
   "source": [
    "## From this subset, show the profit in January and February"
   ]
  },
  {
   "cell_type": "code",
   "execution_count": null,
   "id": "e23a5a32-8a3b-4697-90c6-293b6fdaccd5",
   "metadata": {},
   "outputs": [],
   "source": []
  },
  {
   "cell_type": "code",
   "execution_count": null,
   "id": "a3827dbe-7deb-4461-bea3-cd6d4f9fbaf6",
   "metadata": {},
   "outputs": [],
   "source": []
  }
 ],
 "metadata": {
  "kernelspec": {
   "display_name": "Python 3 (ipykernel)",
   "language": "python",
   "name": "python3"
  },
  "language_info": {
   "codemirror_mode": {
    "name": "ipython",
    "version": 3
   },
   "file_extension": ".py",
   "mimetype": "text/x-python",
   "name": "python",
   "nbconvert_exporter": "python",
   "pygments_lexer": "ipython3",
   "version": "3.11.3"
  }
 },
 "nbformat": 4,
 "nbformat_minor": 5
}
